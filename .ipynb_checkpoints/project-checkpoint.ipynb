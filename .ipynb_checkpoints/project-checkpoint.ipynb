{
 "cells": [
  {
   "cell_type": "code",
   "execution_count": 3,
   "id": "10968ac1-9bad-4eea-b1ce-184d5d64fea5",
   "metadata": {},
   "outputs": [
    {
     "name": "stdout",
     "output_type": "stream",
     "text": [
      "+----------+---+---------------+----+--------------------+---------------------+----------------------+--------------------+------------------+---------+\n",
      "|College_ID| IQ|Prev_Sem_Result|CGPA|Academic_Performance|Internship_Experience|Extra_Curricular_Score|Communication_Skills|Projects_Completed|Placement|\n",
      "+----------+---+---------------+----+--------------------+---------------------+----------------------+--------------------+------------------+---------+\n",
      "|   CLG0030|107|           6.61|6.28|                   8|                   No|                     8|                   8|                 4|       No|\n",
      "|   CLG0061| 97|           5.52|5.37|                   8|                   No|                     7|                   8|                 0|       No|\n",
      "|   CLG0036|109|           5.36|5.83|                   9|                   No|                     3|                   1|                 1|       No|\n",
      "|   CLG0055|122|           5.47|5.75|                   6|                  Yes|                     1|                   6|                 1|       No|\n",
      "|   CLG0004| 96|           7.91|7.69|                   7|                   No|                     8|                  10|                 2|       No|\n",
      "+----------+---+---------------+----+--------------------+---------------------+----------------------+--------------------+------------------+---------+\n",
      "only showing top 5 rows\n",
      "root\n",
      " |-- College_ID: string (nullable = true)\n",
      " |-- IQ: integer (nullable = true)\n",
      " |-- Prev_Sem_Result: double (nullable = true)\n",
      " |-- CGPA: double (nullable = true)\n",
      " |-- Academic_Performance: integer (nullable = true)\n",
      " |-- Internship_Experience: string (nullable = true)\n",
      " |-- Extra_Curricular_Score: integer (nullable = true)\n",
      " |-- Communication_Skills: integer (nullable = true)\n",
      " |-- Projects_Completed: integer (nullable = true)\n",
      " |-- Placement: string (nullable = true)\n",
      "\n",
      "Total Rows: 10000\n",
      "Total Columns: 10\n"
     ]
    }
   ],
   "source": [
    "from pyspark.sql import SparkSession\n",
    "\n",
    "spark = SparkSession.builder.appName(\"CollegePlacementAnalysis\").getOrCreate()\n",
    "\n",
    "df = spark.read.option(\"header\", True).option(\"inferSchema\", True).csv(r\"file:///C:/Users/Navya/Downloads/CollegePlacement.csv\")\n",
    "df.show(5)\n",
    "df.printSchema()\n",
    "print(\"Total Rows:\", df.count())\n",
    "print(\"Total Columns:\", len(df.columns))"
   ]
  },
  {
   "cell_type": "code",
   "execution_count": 5,
   "id": "7ccfa49b-eac0-4562-a340-70b18e16b27b",
   "metadata": {},
   "outputs": [
    {
     "name": "stdout",
     "output_type": "stream",
     "text": [
      "+----------+---+---------------+----+--------------------+---------------------+----------------------+--------------------+------------------+---------+\n",
      "|College_ID| IQ|Prev_Sem_Result|CGPA|Academic_Performance|Internship_Experience|Extra_Curricular_Score|Communication_Skills|Projects_Completed|Placement|\n",
      "+----------+---+---------------+----+--------------------+---------------------+----------------------+--------------------+------------------+---------+\n",
      "|         0|  0|              0|   0|                   0|                    0|                     0|                   0|                 0|        0|\n",
      "+----------+---+---------------+----+--------------------+---------------------+----------------------+--------------------+------------------+---------+\n",
      "\n"
     ]
    }
   ],
   "source": [
    "#Null Value & Missing Data Analysis\n",
    "from pyspark.sql.functions import sum as spark_sum\n",
    "df.select([spark_sum(when(col(c).isNull(), 1).otherwise(0)).alias(c) for c in df.columns]).show()"
   ]
  },
  {
   "cell_type": "code",
   "execution_count": 6,
   "id": "03c5be5d-3866-4168-ac0f-caf6950c59cc",
   "metadata": {},
   "outputs": [
    {
     "name": "stdout",
     "output_type": "stream",
     "text": [
      "+-------+----------+------------------+------------------+------------------+--------------------+---------------------+----------------------+--------------------+------------------+---------+\n",
      "|summary|College_ID|                IQ|   Prev_Sem_Result|              CGPA|Academic_Performance|Internship_Experience|Extra_Curricular_Score|Communication_Skills|Projects_Completed|Placement|\n",
      "+-------+----------+------------------+------------------+------------------+--------------------+---------------------+----------------------+--------------------+------------------+---------+\n",
      "|  count|     10000|             10000|             10000|             10000|               10000|                10000|                 10000|               10000|             10000|    10000|\n",
      "|   mean|      NULL|           99.4718|7.5356730000000445|          7.532379|              5.5464|                 NULL|                4.9709|              5.5618|            2.5134|     NULL|\n",
      "| stddev|      NULL|15.053101485954143|1.4475188282529556|1.4701409802495755|   2.873477462461249|                 NULL|    3.1601031336305323|   2.900865778043892|1.7159588839739568|     NULL|\n",
      "|    min|   CLG0001|                41|               5.0|              4.54|                   1|                   No|                     0|                   1|                 0|       No|\n",
      "|    max|   CLG0100|               158|              10.0|             10.46|                  10|                  Yes|                    10|                  10|                 5|      Yes|\n",
      "+-------+----------+------------------+------------------+------------------+--------------------+---------------------+----------------------+--------------------+------------------+---------+\n",
      "\n"
     ]
    }
   ],
   "source": [
    "#Summary Statistics\n",
    "df.describe().show()"
   ]
  },
  {
   "cell_type": "code",
   "execution_count": 9,
   "id": "9f2ca5d5-98de-40d3-9ba4-518d0c8743e6",
   "metadata": {},
   "outputs": [
    {
     "name": "stdout",
     "output_type": "stream",
     "text": [
      "+--------------+\n",
      "|Placement_Rate|\n",
      "+--------------+\n",
      "|         16.59|\n",
      "+--------------+\n",
      "\n"
     ]
    }
   ],
   "source": [
    "#Placement Rate Calculation\n",
    "from pyspark.sql.functions import avg, round, when, col\n",
    "\n",
    "# Convert 'Placement' column (Yes/No or Placed/Not Placed) into numeric 1/0\n",
    "df = df.withColumn(\"Placed\", when(col(\"Placement\") == \"Placed\", 1)\n",
    "                              .when(col(\"Placement\") == \"Yes\", 1)\n",
    "                              .otherwise(0))\n",
    "\n",
    "# Calculate overall placement rate (%)\n",
    "placement_rate = df.agg(round(avg(\"Placed\") * 100, 2).alias(\"Placement_Rate\"))\n",
    "placement_rate.show()\n"
   ]
  },
  {
   "cell_type": "code",
   "execution_count": 13,
   "id": "c119a734-8854-4474-800c-53f5f4fa0f14",
   "metadata": {},
   "outputs": [
    {
     "name": "stdout",
     "output_type": "stream",
     "text": [
      "+---------+------------+\n",
      "|Placement|Average_CGPA|\n",
      "+---------+------------+\n",
      "|       No|        7.32|\n",
      "|      Yes|        8.59|\n",
      "+---------+------------+\n",
      "\n",
      "+---------+----------+\n",
      "|Placement|Average_IQ|\n",
      "+---------+----------+\n",
      "|       No|     97.55|\n",
      "|      Yes|    109.12|\n",
      "+---------+----------+\n",
      "\n",
      "+---------------------+--------+------------+-------------+\n",
      "|Internship_Experience|Avg_CGPA|Avg_Projects|Student_Count|\n",
      "+---------------------+--------+------------+-------------+\n",
      "|                   No|    7.55|        2.53|         6036|\n",
      "|                  Yes|    7.51|        2.49|         3964|\n",
      "+---------------------+--------+------------+-------------+\n",
      "\n",
      "+--------------------+\n",
      "|      Perf_CGPA_Corr|\n",
      "+--------------------+\n",
      "|-0.00295759985157...|\n",
      "+--------------------+\n",
      "\n",
      "+------------------+--------+\n",
      "|Projects_Completed|Avg_CGPA|\n",
      "+------------------+--------+\n",
      "|                 0|    7.49|\n",
      "|                 1|    7.49|\n",
      "|                 2|    7.49|\n",
      "|                 3|     7.6|\n",
      "|                 4|    7.56|\n",
      "|                 5|    7.56|\n",
      "+------------------+--------+\n",
      "\n",
      "+---------+--------------+\n",
      "|Placement|Avg_Comm_Score|\n",
      "+---------+--------------+\n",
      "|       No|          5.14|\n",
      "|      Yes|          7.66|\n",
      "+---------+--------------+\n",
      "\n",
      "+---------+-------------------+\n",
      "|Placement|Avg_ExtraCurricular|\n",
      "+---------+-------------------+\n",
      "|       No|               4.98|\n",
      "|      Yes|               4.94|\n",
      "+---------+-------------------+\n",
      "\n"
     ]
    }
   ],
   "source": [
    "#Average CGPA of Placed vs Not Placed\n",
    "from pyspark.sql.functions import round, mean\n",
    "df.groupBy(\"Placement\").agg(round(mean(\"CGPA\"), 2).alias(\"Average_CGPA\")).show()\n",
    "\n",
    "#Average IQ of Placed vs Not Placed\n",
    "df.groupBy(\"Placement\").agg(round(mean(\"IQ\"), 2).alias(\"Average_IQ\")).show()\n",
    "\n",
    "#Effect of Internship Experience on Placement\n",
    "df.groupBy(\"Internship_Experience\").agg(round(mean(\"CGPA\"), 2).alias(\"Avg_CGPA\"),\n",
    "                                        round(mean(\"Projects_Completed\"), 2).alias(\"Avg_Projects\"),\n",
    "                                        count(\"*\").alias(\"Student_Count\")).show()\n",
    "\n",
    "#Correlation between Academic Performance and Placement\n",
    "from pyspark.sql.functions import corr\n",
    "df.select(corr(\"Academic_Performance\", \"CGPA\").alias(\"Perf_CGPA_Corr\")).show()\n",
    "\n",
    "#CGPA vs Projects Completed\n",
    "df.groupBy(\"Projects_Completed\").agg(round(mean(\"CGPA\"), 2).alias(\"Avg_CGPA\")).orderBy(\"Projects_Completed\").show()\n",
    "\n",
    "#Communication Skills vs Placement\n",
    "df.groupBy(\"Placement\").agg(round(mean(\"Communication_Skills\"), 2).alias(\"Avg_Comm_Score\")).show()\n",
    "\n",
    "#Extra Curricular vs Placement\n",
    "df.groupBy(\"Placement\").agg(round(mean(\"Extra_Curricular_Score\"), 2).alias(\"Avg_ExtraCurricular\")).show()\n"
   ]
  }
 ],
 "metadata": {
  "kernelspec": {
   "display_name": "Python 3 (ipykernel)",
   "language": "python",
   "name": "python3"
  },
  "language_info": {
   "codemirror_mode": {
    "name": "ipython",
    "version": 3
   },
   "file_extension": ".py",
   "mimetype": "text/x-python",
   "name": "python",
   "nbconvert_exporter": "python",
   "pygments_lexer": "ipython3",
   "version": "3.10.0"
  }
 },
 "nbformat": 4,
 "nbformat_minor": 5
}
