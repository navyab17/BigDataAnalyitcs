{
 "cells": [
  {
   "cell_type": "code",
   "execution_count": 1,
   "id": "5f954241-333f-456a-94fe-b1f4dc13a141",
   "metadata": {},
   "outputs": [
    {
     "data": {
      "text/html": [
       "\n",
       "        <div>\n",
       "            <p><b>SparkContext</b></p>\n",
       "\n",
       "            <p><a href=\"http://LAPTOP-A5D13KCQ.mshome.net:4040\">Spark UI</a></p>\n",
       "\n",
       "            <dl>\n",
       "              <dt>Version</dt>\n",
       "                <dd><code>v4.0.1</code></dd>\n",
       "              <dt>Master</dt>\n",
       "                <dd><code>local[*]</code></dd>\n",
       "              <dt>AppName</dt>\n",
       "                <dd><code>PySparkShell</code></dd>\n",
       "            </dl>\n",
       "        </div>\n",
       "        "
      ],
      "text/plain": [
       "<SparkContext master=local[*] appName=PySparkShell>"
      ]
     },
     "execution_count": 1,
     "metadata": {},
     "output_type": "execute_result"
    }
   ],
   "source": [
    "sc"
   ]
  },
  {
   "cell_type": "code",
   "execution_count": 2,
   "id": "c06fc4e0-b984-40f5-a224-bbc0c7e56bc8",
   "metadata": {},
   "outputs": [],
   "source": [
    "import random"
   ]
  },
  {
   "cell_type": "code",
   "execution_count": 3,
   "id": "75873797-cced-49f8-9a3f-fc246cd32d06",
   "metadata": {},
   "outputs": [
    {
     "name": "stdout",
     "output_type": "stream",
     "text": [
      "Original List:\n",
      "[637, 720, 110, 893, 821, 510, 627, 66, 614, 812, 199, 835, 597, 135, 297, 477, 965, 941, 676, 191, 533, 951, 192, 501, 478, 480, 866, 794, 406, 532, 952, 192, 346, 1, 353, 376, 337, 457, 863, 194, 844, 416, 61, 720, 679, 645, 660, 334, 78, 966, 960, 372, 364, 1, 234, 387, 207, 727, 788, 663, 158, 501, 384, 670, 187, 443, 48, 543, 184, 543, 151, 649, 325, 842, 102, 675, 910, 231, 186, 684, 671, 861, 245, 273, 941, 643, 296, 344, 65, 940, 436, 273, 855, 223, 76, 892, 809, 28, 25, 895]\n"
     ]
    }
   ],
   "source": [
    "random_numbers = [random.randint(1, 1000) for _ in range(100)]\n",
    "print(\"Original List:\")\n",
    "print(random_numbers)"
   ]
  },
  {
   "cell_type": "code",
   "execution_count": 4,
   "id": "8a463e91-f393-4330-b86e-13592f7e42b0",
   "metadata": {},
   "outputs": [],
   "source": [
    "numbers_rdd = sc.parallelize(random_numbers)"
   ]
  },
  {
   "cell_type": "code",
   "execution_count": 5,
   "id": "1fdc4887-ece9-4f88-9494-f67046bde050",
   "metadata": {},
   "outputs": [],
   "source": [
    "even_numbers_rdd = numbers_rdd.filter(lambda x: x % 2 == 0)"
   ]
  },
  {
   "cell_type": "code",
   "execution_count": 6,
   "id": "05bd2d37-660c-4a45-98b7-293948cdd6fd",
   "metadata": {},
   "outputs": [
    {
     "name": "stdout",
     "output_type": "stream",
     "text": [
      "\n",
      "Even Numbers:\n",
      "[720, 110, 510, 66, 614, 812, 676, 192, 478, 480, 866, 794, 406, 532, 952, 192, 346, 376, 194, 844, 416, 720, 660, 334, 78, 966, 960, 372, 364, 234, 788, 158, 384, 670, 48, 184, 842, 102, 910, 186, 684, 296, 344, 940, 436, 76, 892, 28]\n"
     ]
    }
   ],
   "source": [
    "even_numbers = even_numbers_rdd.collect()\n",
    "print(\"\\nEven Numbers:\")\n",
    "print(even_numbers)"
   ]
  },
  {
   "cell_type": "code",
   "execution_count": null,
   "id": "40f4fe97-efa9-439c-beb5-a68eaf83422b",
   "metadata": {},
   "outputs": [],
   "source": []
  }
 ],
 "metadata": {
  "kernelspec": {
   "display_name": "Python 3 (ipykernel)",
   "language": "python",
   "name": "python3"
  },
  "language_info": {
   "codemirror_mode": {
    "name": "ipython",
    "version": 3
   },
   "file_extension": ".py",
   "mimetype": "text/x-python",
   "name": "python",
   "nbconvert_exporter": "python",
   "pygments_lexer": "ipython3",
   "version": "3.10.0"
  }
 },
 "nbformat": 4,
 "nbformat_minor": 5
}
